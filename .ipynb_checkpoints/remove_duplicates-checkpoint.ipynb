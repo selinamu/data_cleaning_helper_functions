{
 "cells": [
  {
   "cell_type": "code",
   "execution_count": null,
   "metadata": {},
   "outputs": [],
   "source": [
    "import numpy as np\n",
    "import cv2\n",
    "import os\n",
    "import glob"
   ]
  },
  {
   "cell_type": "code",
   "execution_count": null,
   "metadata": {},
   "outputs": [],
   "source": [
    "def dhash(image, hashSize=8):\n",
    "    gray = cv2.cvtColor(image, cv2.COLOR_BGR2GRAY)\n",
    "    resized = cv2.resize(gray, (hashSize + 1, hashSize))\n",
    "    diff = resized[:, 1:] > resized[:, :-1]\n",
    "\n",
    "    return sum([2 ** i for (i, v) in enumerate(diff.flatten()) if v])"
   ]
  },
  {
   "cell_type": "code",
   "execution_count": null,
   "metadata": {},
   "outputs": [],
   "source": [
    "hashes = {}\n",
    "cnt = 0\n",
    "for imagePath in glob.glob('/Users/sindhukumar/Downloads/docs/*'):\n",
    "    # load the input image and compute the hash\n",
    "    image = cv2.imread(imagePath)\n",
    "\n",
    "    h = dhash(image)\n",
    "\n",
    "    p = hashes.get(h, [])\n",
    "    p.append(imagePath)\n",
    "    hashes[h] = p"
   ]
  },
  {
   "cell_type": "code",
   "execution_count": null,
   "metadata": {},
   "outputs": [],
   "source": [
    "hashes "
   ]
  },
  {
   "cell_type": "markdown",
   "metadata": {},
   "source": [
    "### make sure to verify images before deleting duplicates in next step"
   ]
  },
  {
   "cell_type": "code",
   "execution_count": null,
   "metadata": {},
   "outputs": [],
   "source": [
    "\n",
    "# loop over the image hashes\n",
    "cnt = 0\n",
    "for (h, hashedPaths) in hashes.items():\n",
    "    if len(hashedPaths) > 1:\n",
    "        for p in hashedPaths[1:]:\n",
    "            print(cnt, ': ',p)\n",
    "            cnt+=1\n",
    "            os.remove(p)"
   ]
  },
  {
   "cell_type": "code",
   "execution_count": null,
   "metadata": {},
   "outputs": [],
   "source": []
  }
 ],
 "metadata": {
  "kernelspec": {
   "display_name": "Python 3",
   "language": "python",
   "name": "python3"
  },
  "language_info": {
   "codemirror_mode": {
    "name": "ipython",
    "version": 3
   },
   "file_extension": ".py",
   "mimetype": "text/x-python",
   "name": "python",
   "nbconvert_exporter": "python",
   "pygments_lexer": "ipython3",
   "version": "3.7.4"
  }
 },
 "nbformat": 4,
 "nbformat_minor": 4
}
