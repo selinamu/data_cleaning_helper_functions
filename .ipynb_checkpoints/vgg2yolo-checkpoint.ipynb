{
 "cells": [
  {
   "cell_type": "code",
   "execution_count": null,
   "metadata": {},
   "outputs": [],
   "source": [
    "import pandas\n",
    "import csv\n",
    "import numpy as np\n",
    "import os\n",
    "import cv2\n",
    "import matplotlib.pyplot as plt"
   ]
  },
  {
   "cell_type": "code",
   "execution_count": null,
   "metadata": {},
   "outputs": [],
   "source": [
    "gts = pandas.read_csv('../project/data/via_vgg.csv')\n",
    "gts[:5]"
   ]
  },
  {
   "cell_type": "code",
   "execution_count": null,
   "metadata": {},
   "outputs": [],
   "source": [
    "gts_dict = {}\n",
    "for index, row in gts.iterrows():\n",
    "    filename = row[0]\n",
    "    bbox = eval(row[5])\n",
    "    if len(bbox.keys()) == 0:\n",
    "        continue\n",
    "    box = [bbox['x'], bbox['y'], bbox['width'], bbox['height']]\n",
    "    if filename in gts_dict:\n",
    "        gts_dict[filename].append(box)\n",
    "    else:\n",
    "        gts_dict[filename] = [box]\n",
    "gts_dict"
   ]
  },
  {
   "cell_type": "code",
   "execution_count": null,
   "metadata": {},
   "outputs": [],
   "source": [
    "for file, boxes in gts_dict.items():\n",
    "    img = cv2.imread('../project/data/big/'+file)\n",
    "    imh, imw = img.shape[:2]\n",
    "    with open('../project/data/labels_v2/'+os.path.splitext(file)[0]+'.txt', 'a') as f:\n",
    "        for box in boxes:\n",
    "            x1 = float(box[0])\n",
    "            y1 = float(box[1])\n",
    "            wd = float(box[2])\n",
    "            ht = float(box[3])\n",
    "            x = (x1+(wd/2.0))/imw\n",
    "            y = (y1+(ht/2.0))/imh\n",
    "            w = wd/imw\n",
    "            h = ht/imh\n",
    "            text = '0'+' '+str(x)+' '+str(y)+' '+str(w)+' '+str(h)+'\\n'\n",
    "            f.write(text)  \n",
    "    cv2.imwrite('../project/data/imgs_v2/' + os.path.splitext(file)[0]+'.jpg', img)"
   ]
  },
  {
   "cell_type": "code",
   "execution_count": null,
   "metadata": {},
   "outputs": [],
   "source": [
    "for file in os.listdir('../project/data/full_imgs/'):\n",
    "    if file == '.DS_Store':\n",
    "        continue\n",
    "    print(file)\n",
    "    img = cv2.imread('../project/data/full_imgs/'+file)\n",
    "    imh, imw = img.shape[:2]\n",
    "    with open('../project/data/labels_v2/'+os.path.splitext(file)[0]+'.txt', 'a') as f:\n",
    "        \n",
    "        x1 = 0\n",
    "        y1 = 0\n",
    "        wd = imw\n",
    "        ht = imh\n",
    "        x = (x1+(wd/2.0))/imw\n",
    "        y = (y1+(ht/2.0))/imh\n",
    "        w = wd/imw\n",
    "        h = ht/imh\n",
    "        text = '0'+' '+str(x)+' '+str(y)+' '+str(w)+' '+str(h)+'\\n'\n",
    "        f.write(text)  \n",
    "    cv2.imwrite('../project/data/imgs_v2/' + os.path.splitext(file)[0]+'.jpg', img)"
   ]
  },
  {
   "cell_type": "code",
   "execution_count": null,
   "metadata": {},
   "outputs": [],
   "source": [
    "from sklearn.model_selection import train_test_split\n",
    "\n",
    "images = os.listdir('../project/data/images/')\n",
    "\n",
    "x_train, x_test = train_test_split(images, test_size=0.30, random_state=610)\n"
   ]
  },
  {
   "cell_type": "code",
   "execution_count": null,
   "metadata": {},
   "outputs": [],
   "source": [
    "with open('../project/data/train.txt', 'a') as t:\n",
    "    for i in x_train:\n",
    "        t.write('data/images/'+i+'\\n')"
   ]
  },
  {
   "cell_type": "code",
   "execution_count": null,
   "metadata": {},
   "outputs": [],
   "source": [
    "len(x_train)+len(x_test)"
   ]
  },
  {
   "cell_type": "code",
   "execution_count": null,
   "metadata": {},
   "outputs": [],
   "source": []
  }
 ],
 "metadata": {
  "kernelspec": {
   "display_name": "Python 3",
   "language": "python",
   "name": "python3"
  },
  "language_info": {
   "codemirror_mode": {
    "name": "ipython",
    "version": 3
   },
   "file_extension": ".py",
   "mimetype": "text/x-python",
   "name": "python",
   "nbconvert_exporter": "python",
   "pygments_lexer": "ipython3",
   "version": "3.7.4"
  }
 },
 "nbformat": 4,
 "nbformat_minor": 4
}
